{
 "cells": [
  {
   "cell_type": "code",
   "execution_count": 45,
   "id": "0f6550b5",
   "metadata": {},
   "outputs": [],
   "source": [
    "import numpy as np\n",
    "import keras.backend as K\n",
    "from keras.layers import Dense, Embedding, Lambda\n",
    "from keras.models import Sequential\n",
    "from keras.preprocessing import sequence\n",
    "from keras.preprocessing.text import Tokenizer\n",
    "from gensim.models import KeyedVectors"
   ]
  },
  {
   "cell_type": "code",
   "execution_count": 46,
   "id": "8d125217",
   "metadata": {},
   "outputs": [],
   "source": [
    "with open('text.txt','w') as file:\n",
    "    file.write(\"\"\"The speed of transmission is an important point of difference between the two viruses.\n",
    "Influenza has a shorter median incubation period (the time from infection to appearance of symptoms)\n",
    "and a shorter serial interval (the time between successive cases) than COVID-19 virus.\n",
    "The serial interval for COVID-19 virus is estimated to be 5-6 days, while for influenza virus, the serial interval is 3 days.\n",
    "This means that influenza can spread faster than COVID-19.\n",
    "\n",
    "Further, transmission in the first 3-5 days of illness, or potentially pre-symptomatic transmission –\n",
    "transmission of the virus before the appearance of symptoms – is a major driver of transmission for influenza.\n",
    "In contrast, while we are learning that there are people who can shed COVID-19 virus 24-48 hours prior to symptom onset,\n",
    "at present, this does not appear to be a major driver of transmission.\n",
    "\n",
    "The reproductive number – the number of secondary infections generated from one infected individual –\n",
    "is understood to be between 2 and 2.5 for COVID-19 virus, higher than for influenza.\n",
    "However, estimates for both COVID-19 and influenza viruses are very context and time-specific, making direct comparisons more difficult.\n",
    "\"\"\")"
   ]
  },
  {
   "cell_type": "code",
   "execution_count": 47,
   "id": "c25fa15e",
   "metadata": {},
   "outputs": [],
   "source": [
    "#reading data\n",
    "data = open('text.txt','r')\n",
    "#extracting sentence\n",
    "sentence = [text for text in data if text.count(' ')>=2]\n",
    "vectorize = Tokenizer()"
   ]
  },
  {
   "cell_type": "code",
   "execution_count": 48,
   "id": "68062fbf",
   "metadata": {},
   "outputs": [],
   "source": [
    "#training for sentence\n",
    "vectorize.fit_on_texts(sentence)\n",
    "#tokenization on sentence\n",
    "sentence = vectorize.texts_to_sequences(sentence)"
   ]
  },
  {
   "cell_type": "code",
   "execution_count": 49,
   "id": "97eaf785",
   "metadata": {},
   "outputs": [],
   "source": [
    "#find total no. of sentence and words\n",
    "total_vocab = sum(len(s) for s in sentence)\n",
    "total_words = len(vectorize.word_index)+1\n",
    "window_size = 2"
   ]
  },
  {
   "cell_type": "code",
   "execution_count": 50,
   "id": "625613c4",
   "metadata": {},
   "outputs": [],
   "source": [
    "def cbow_model(data, window_size, total_vocab):\n",
    "    total_length = window_size*2\n",
    "    for text in data:\n",
    "        text_len = len(text)\n",
    "        for idx, word in enumerate(text):\n",
    "            context_word = []\n",
    "            target   = []\n",
    "            begin = idx - window_size\n",
    "            end = idx + window_size + 1\n",
    "            context_word.append([text[i] for i in range(begin, end) if 0 <= i < text_len and i != idx])\n",
    "            target.append(word)\n",
    "            contextual = sequence.pad_sequences(context_word, total_length=total_length)\n",
    "            final_target = utils.to_categorical(target, total_vocab)\n",
    "            yield(contextual, final_target)"
   ]
  },
  {
   "cell_type": "code",
   "execution_count": 51,
   "id": "9f5af772",
   "metadata": {},
   "outputs": [
    {
     "name": "stdout",
     "output_type": "stream",
     "text": [
      "0 0\n",
      "1 0\n",
      "2 0\n",
      "3 0\n",
      "4 0\n",
      "5 0\n",
      "6 0\n",
      "7 0\n",
      "8 0\n",
      "9 0\n"
     ]
    }
   ],
   "source": [
    "model = Sequential()\n",
    "model.add(Embedding(input_dim=total_vocab, output_dim=100, input_length=window_size*2))\n",
    "model.add(Lambda(lambda x: K.mean(x, axis=1), output_shape=(100,)))\n",
    "model.add(Dense(total_vocab, activation='softmax'))\n",
    "model.compile(loss='categorical_crossentropy', optimizer='adam')\n",
    "for i in range(10):\n",
    "    cost = 0\n",
    "    for x, y in cbow_model(data, window_size, total_vocab):\n",
    "        cost += model.train_on_batch(contextual, final_target)\n",
    "    print(i, cost)"
   ]
  },
  {
   "cell_type": "code",
   "execution_count": 59,
   "id": "b219d2f5",
   "metadata": {},
   "outputs": [
    {
     "data": {
      "text/plain": [
       "8"
      ]
     },
     "execution_count": 59,
     "metadata": {},
     "output_type": "execute_result"
    }
   ],
   "source": [
    "# Create vector file of some word for testing\n",
    "dimensions=100\n",
    "vect_file = open('../content/vectors.txt' ,'w')\n",
    "vect_file.write('{} {}\\n'.format(total_vocab,dimensions))"
   ]
  },
  {
   "cell_type": "code",
   "execution_count": 60,
   "id": "6fc336aa",
   "metadata": {},
   "outputs": [],
   "source": [
    "# Assign weights to your trained model\n",
    "weights = model.get_weights()[0]\n",
    "for text, i in vectorize.word_index.items():\n",
    "    final_vec = ' '.join(map(str, list(weights[i, :])))\n",
    "    vect_file.write('{} {}\\n'.format(text, final_vec))\n",
    "vect_file.close()"
   ]
  },
  {
   "cell_type": "code",
   "execution_count": 62,
   "id": "ec72fabf",
   "metadata": {},
   "outputs": [],
   "source": [
    "cbow_output = KeyedVectors.load_word2vec_format('../content/vectors.txt', binary=False, limit=100, encoding='latin-1')"
   ]
  },
  {
   "cell_type": "code",
   "execution_count": 63,
   "id": "cb0a9990",
   "metadata": {},
   "outputs": [
    {
     "data": {
      "text/plain": [
       "[('comparisons', 0.33667847514152527),\n",
       " ('median', 0.27564844489097595),\n",
       " ('specific', 0.21048730611801147),\n",
       " ('understood', 0.17160819470882416),\n",
       " ('however', 0.1676071286201477),\n",
       " ('and', 0.16637516021728516),\n",
       " ('incubation', 0.1275118887424469),\n",
       " ('to', 0.12228561192750931),\n",
       " ('who', 0.12196187674999237),\n",
       " ('2', 0.11743484437465668)]"
      ]
     },
     "execution_count": 63,
     "metadata": {},
     "output_type": "execute_result"
    }
   ],
   "source": [
    "cbow_output.most_similar(positive=['virus'])"
   ]
  },
  {
   "cell_type": "code",
   "execution_count": null,
   "id": "9ea8c34a",
   "metadata": {},
   "outputs": [],
   "source": []
  }
 ],
 "metadata": {
  "kernelspec": {
   "display_name": "Python 3 (ipykernel)",
   "language": "python",
   "name": "python3"
  },
  "language_info": {
   "codemirror_mode": {
    "name": "ipython",
    "version": 3
   },
   "file_extension": ".py",
   "mimetype": "text/x-python",
   "name": "python",
   "nbconvert_exporter": "python",
   "pygments_lexer": "ipython3",
   "version": "3.11.2"
  }
 },
 "nbformat": 4,
 "nbformat_minor": 5
}
